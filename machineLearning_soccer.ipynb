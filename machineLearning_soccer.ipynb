{
  "nbformat": 4,
  "nbformat_minor": 0,
  "metadata": {
    "colab": {
      "provenance": []
    },
    "kernelspec": {
      "name": "python3",
      "display_name": "Python 3"
    }
  },
  "cells": [
    {
      "cell_type": "code",
      "metadata": {
        "id": "MbnT1GW2wGBl"
      },
      "source": [],
      "execution_count": null,
      "outputs": []
    },
    {
      "cell_type": "code",
      "metadata": {
        "id": "w8kZewzPovWA"
      },
      "source": [
        " "
      ],
      "execution_count": null,
      "outputs": []
    },
    {
      "cell_type": "markdown",
      "metadata": {
        "id": "GwkuW3ncxORE"
      },
      "source": [
        "<img src=\"https://static.wikia.nocookie.net/bttf/images/1/13/Almanacfront.jpg/revision/latest/scale-to-width-down/300?cb=20070110144009\" width=\"250\" align=\"left\"/>\n",
        "<font face = \"Clarendon\" size=6 color=\"\"> \tIntroduction</font>\n",
        "<br/>\n",
        "<font face = \"Clarendon\" size=5 color=\"\"> \t\n",
        "\"See this book? It tells the future. It tells the outcome of every major sporting event through the end of the century... soccer, baseball, basketball, horse racing, boxing... the records in this book are worth millions. \" That was the line of old Biff discussing the almanac with his younger self in 1955. Who wouldn't want to have a book like that?\n",
        "<br/>\n",
        "Well, have you ever thought about finding out the results of the Brazilian championship games? This notebook contains the code used to make game predictions seeking the highest possible number of correct results.</font>\n",
        "<br/>\n",
        "\n",
        "\n",
        "\n",
        "\n"
      ]
    },
    {
      "cell_type": "code",
      "metadata": {
        "id": "-xaZ58O0IyBB"
      },
      "source": [
        "# Libraries\n",
        "import pandas as pd\n",
        "import numpy as np\n",
        "\n",
        "from google_drive_downloader import GoogleDriveDownloader as gdd\n",
        "from sklearn.model_selection import train_test_split\n",
        "from sklearn.linear_model import LogisticRegression"
      ],
      "execution_count": null,
      "outputs": []
    },
    {
      "cell_type": "code",
      "metadata": {
        "id": "nwvDohYKJlEZ",
        "colab": {
          "base_uri": "https://localhost:8080/",
          "height": 238
        },
        "outputId": "a0bf4f0a-e8e1-4fd2-fc40-5add67ef2ddc"
      },
      "source": [
        "# Loading CSV from Google Drive\n",
        "# The file used was downloaded from the site www.football-data.co.uk, which aggregates information from several championships\n",
        "# from around the world.\n",
        "data_google_id = '1cexvKiMVcEbwrWJC4WS7kFVnn4_K5Hvq'\n",
        "gdd.download_file_from_google_drive(file_id=data_google_id, \n",
        "                                    dest_path = './BRA.csv', \n",
        "                                    showsize = True)\n",
        "\n",
        "data=pd.read_csv('BRA.csv',delimiter=',')\n",
        "# Removing some columns that are not relevant for the calculation\n",
        "num_data = data.drop(['Country','League','Season','Date','Time','Home','Away','game_id','home_id','Away_id', 'AG','PD','PH'],1)\n",
        "# Checking the first 5 lines of the file to be used \n",
        "display(num_data.head())"
      ],
      "execution_count": null,
      "outputs": [
        {
          "output_type": "stream",
          "text": [
            "Downloading 1cexvKiMVcEbwrWJC4WS7kFVnn4_K5Hvq into ./BRA.csv... \n",
            "256.0 KiB Done.\n"
          ],
          "name": "stdout"
        },
        {
          "output_type": "display_data",
          "data": {
            "text/html": [
              "<div>\n",
              "<style scoped>\n",
              "    .dataframe tbody tr th:only-of-type {\n",
              "        vertical-align: middle;\n",
              "    }\n",
              "\n",
              "    .dataframe tbody tr th {\n",
              "        vertical-align: top;\n",
              "    }\n",
              "\n",
              "    .dataframe thead th {\n",
              "        text-align: right;\n",
              "    }\n",
              "</style>\n",
              "<table border=\"1\" class=\"dataframe\">\n",
              "  <thead>\n",
              "    <tr style=\"text-align: right;\">\n",
              "      <th></th>\n",
              "      <th>HG</th>\n",
              "      <th>Res</th>\n",
              "      <th>PA</th>\n",
              "      <th>MaxH</th>\n",
              "      <th>MaxD</th>\n",
              "      <th>MaxA</th>\n",
              "      <th>AvgH</th>\n",
              "      <th>AvgD</th>\n",
              "      <th>AvgA</th>\n",
              "    </tr>\n",
              "  </thead>\n",
              "  <tbody>\n",
              "    <tr>\n",
              "      <th>0</th>\n",
              "      <td>1</td>\n",
              "      <td>0</td>\n",
              "      <td>5.25</td>\n",
              "      <td>1.76</td>\n",
              "      <td>3.87</td>\n",
              "      <td>5.31</td>\n",
              "      <td>1.69</td>\n",
              "      <td>3.50</td>\n",
              "      <td>4.90</td>\n",
              "    </tr>\n",
              "    <tr>\n",
              "      <th>1</th>\n",
              "      <td>1</td>\n",
              "      <td>0</td>\n",
              "      <td>2.68</td>\n",
              "      <td>2.83</td>\n",
              "      <td>3.42</td>\n",
              "      <td>2.70</td>\n",
              "      <td>2.59</td>\n",
              "      <td>3.23</td>\n",
              "      <td>2.58</td>\n",
              "    </tr>\n",
              "    <tr>\n",
              "      <th>2</th>\n",
              "      <td>2</td>\n",
              "      <td>1</td>\n",
              "      <td>6.72</td>\n",
              "      <td>1.67</td>\n",
              "      <td>4.05</td>\n",
              "      <td>7.22</td>\n",
              "      <td>1.59</td>\n",
              "      <td>3.67</td>\n",
              "      <td>5.64</td>\n",
              "    </tr>\n",
              "    <tr>\n",
              "      <th>3</th>\n",
              "      <td>4</td>\n",
              "      <td>1</td>\n",
              "      <td>3.15</td>\n",
              "      <td>2.49</td>\n",
              "      <td>3.39</td>\n",
              "      <td>3.15</td>\n",
              "      <td>2.35</td>\n",
              "      <td>3.26</td>\n",
              "      <td>2.84</td>\n",
              "    </tr>\n",
              "    <tr>\n",
              "      <th>4</th>\n",
              "      <td>0</td>\n",
              "      <td>2</td>\n",
              "      <td>4.41</td>\n",
              "      <td>1.96</td>\n",
              "      <td>3.53</td>\n",
              "      <td>4.41</td>\n",
              "      <td>1.89</td>\n",
              "      <td>3.33</td>\n",
              "      <td>3.89</td>\n",
              "    </tr>\n",
              "  </tbody>\n",
              "</table>\n",
              "</div>"
            ],
            "text/plain": [
              "   HG  Res    PA  MaxH  MaxD  MaxA  AvgH  AvgD  AvgA\n",
              "0   1    0  5.25  1.76  3.87  5.31  1.69  3.50  4.90\n",
              "1   1    0  2.68  2.83  3.42  2.70  2.59  3.23  2.58\n",
              "2   2    1  6.72  1.67  4.05  7.22  1.59  3.67  5.64\n",
              "3   4    1  3.15  2.49  3.39  3.15  2.35  3.26  2.84\n",
              "4   0    2  4.41  1.96  3.53  4.41  1.89  3.33  3.89"
            ]
          },
          "metadata": {
            "tags": []
          }
        }
      ]
    },
    {
      "cell_type": "code",
      "metadata": {
        "id": "8_mPniuwNFyX",
        "colab": {
          "base_uri": "https://localhost:8080/"
        },
        "outputId": "e241560d-d4d7-4995-c02b-81a9595fc1ba"
      },
      "source": [
        "# Separate elements for training using logistic regression, where Y is the final answer, and X is everything except the answer\n",
        "x = num_data.drop(['Res'],1)\n",
        "\n",
        "y = data['Res']\n",
        "\n",
        "x_train, x_test, y_train, y_test = train_test_split(x, y, \n",
        "                                                    test_size = 0.3, \n",
        "                                                    random_state = 42)\n",
        "\n",
        "model = LogisticRegression(solver='lbfgs', max_iter=400).fit(x_train, y_train)\n",
        "\n",
        "y_pred = model.predict(x_test)\n",
        "\n",
        "print(x_train, x_test, y_train, y_test)\n",
        "\n",
        "#HG = Home team goals\n",
        "#PA = away team win probability provided by Pinacle (English bookmaker)\n",
        "#MaxH = home team win probability provided by OddsPortal (English bookmaker)\n",
        "#MaxD = draw probability provided by OddsPortal (English bookmaker)\n",
        "#MaxA = away team win probability provided by OddsPortal (English bookmaker)\n",
        "#AvgH = average home win probability provided by OddsPortal (English bookmaker)\n",
        "#AvgD = average draw probability provided by OddsPortal (English bookmaker)\n",
        "#AvgA = average probability of winning by the away team provided by OddsPortal (English bookmaker)"
      ],
      "execution_count": null,
      "outputs": [
        {
          "output_type": "stream",
          "text": [
            "      HG     PA  MaxH  MaxD   MaxA  AvgH  AvgD   AvgA\n",
            "123    0   2.57  3.15  3.34   2.57  2.95  3.18   2.33\n",
            "831    0   2.09  3.90  3.47   2.25  3.54  3.22   2.07\n",
            "394    0   5.72  1.75  3.85   6.00  1.68  3.53   5.03\n",
            "1029   5   2.36  3.44  3.30   2.44  3.20  3.09   2.27\n",
            "857    2   4.25  2.10  3.60   4.28  1.94  3.29   3.87\n",
            "...   ..    ...   ...   ...    ...   ...   ...    ...\n",
            "1638   0   3.55  2.32  3.40   3.70  2.17  3.20   3.37\n",
            "1095   3   3.89  2.13  3.45   4.15  2.03  3.26   3.60\n",
            "1130   2  16.65  1.25  6.70  17.00  1.21  5.84  13.28\n",
            "1294   0   7.51  1.55  4.46   8.20  1.49  3.99   6.73\n",
            "860    0   2.17  3.76  3.32   2.20  3.46  3.16   2.11\n",
            "\n",
            "[1595 rows x 8 columns]       HG    PA  MaxH  MaxD  MaxA  AvgH  AvgD  AvgA\n",
            "408    3  3.13  2.44  3.50  3.20  2.29  3.23  3.02\n",
            "1374   1  4.76  1.94  3.60  4.76  1.89  3.24  4.28\n",
            "1901   3  3.83  2.01  3.75  4.33  1.92  3.43  3.90\n",
            "1557   1  3.26  2.45  3.50  3.26  2.33  3.21  2.99\n",
            "1430   2  7.47  1.51  5.00  7.90  1.46  4.29  6.61\n",
            "...   ..   ...   ...   ...   ...   ...   ...   ...\n",
            "601    0  2.71  2.92  3.30  2.72  2.74  3.12  2.54\n",
            "175    3  3.46  2.34  3.36  3.60  2.21  3.20  3.14\n",
            "1795   1  3.48  2.45  3.47  3.48  2.23  3.25  3.20\n",
            "2000   1  2.83  2.80  3.40  2.88  2.63  3.14  2.70\n",
            "2037   1  3.93  2.20  3.51  3.93  2.04  3.36  3.54\n",
            "\n",
            "[684 rows x 8 columns] 123     0\n",
            "831     0\n",
            "394     2\n",
            "1029    1\n",
            "857     1\n",
            "       ..\n",
            "1638    2\n",
            "1095    1\n",
            "1130    1\n",
            "1294    2\n",
            "860     2\n",
            "Name: Res, Length: 1595, dtype: int64 408     1\n",
            "1374    0\n",
            "1901    1\n",
            "1557    0\n",
            "1430    1\n",
            "       ..\n",
            "601     0\n",
            "175     1\n",
            "1795    2\n",
            "2000    0\n",
            "2037    2\n",
            "Name: Res, Length: 684, dtype: int64\n"
          ],
          "name": "stdout"
        }
      ]
    },
    {
      "cell_type": "code",
      "metadata": {
        "id": "4KHCbj45Bqm8",
        "colab": {
          "base_uri": "https://localhost:8080/",
          "height": 419
        },
        "outputId": "8522f19c-5724-4eba-8b9d-606cfd14248d"
      },
      "source": [
        "# Comparison of prediction versus response\n",
        "pd.DataFrame({'pred': y_pred, 'resp': y_test})"
      ],
      "execution_count": null,
      "outputs": [
        {
          "output_type": "execute_result",
          "data": {
            "text/html": [
              "<div>\n",
              "<style scoped>\n",
              "    .dataframe tbody tr th:only-of-type {\n",
              "        vertical-align: middle;\n",
              "    }\n",
              "\n",
              "    .dataframe tbody tr th {\n",
              "        vertical-align: top;\n",
              "    }\n",
              "\n",
              "    .dataframe thead th {\n",
              "        text-align: right;\n",
              "    }\n",
              "</style>\n",
              "<table border=\"1\" class=\"dataframe\">\n",
              "  <thead>\n",
              "    <tr style=\"text-align: right;\">\n",
              "      <th></th>\n",
              "      <th>pred</th>\n",
              "      <th>resp</th>\n",
              "    </tr>\n",
              "  </thead>\n",
              "  <tbody>\n",
              "    <tr>\n",
              "      <th>408</th>\n",
              "      <td>1</td>\n",
              "      <td>1</td>\n",
              "    </tr>\n",
              "    <tr>\n",
              "      <th>1374</th>\n",
              "      <td>1</td>\n",
              "      <td>0</td>\n",
              "    </tr>\n",
              "    <tr>\n",
              "      <th>1901</th>\n",
              "      <td>1</td>\n",
              "      <td>1</td>\n",
              "    </tr>\n",
              "    <tr>\n",
              "      <th>1557</th>\n",
              "      <td>0</td>\n",
              "      <td>0</td>\n",
              "    </tr>\n",
              "    <tr>\n",
              "      <th>1430</th>\n",
              "      <td>1</td>\n",
              "      <td>1</td>\n",
              "    </tr>\n",
              "    <tr>\n",
              "      <th>...</th>\n",
              "      <td>...</td>\n",
              "      <td>...</td>\n",
              "    </tr>\n",
              "    <tr>\n",
              "      <th>601</th>\n",
              "      <td>2</td>\n",
              "      <td>0</td>\n",
              "    </tr>\n",
              "    <tr>\n",
              "      <th>175</th>\n",
              "      <td>1</td>\n",
              "      <td>1</td>\n",
              "    </tr>\n",
              "    <tr>\n",
              "      <th>1795</th>\n",
              "      <td>0</td>\n",
              "      <td>2</td>\n",
              "    </tr>\n",
              "    <tr>\n",
              "      <th>2000</th>\n",
              "      <td>0</td>\n",
              "      <td>0</td>\n",
              "    </tr>\n",
              "    <tr>\n",
              "      <th>2037</th>\n",
              "      <td>0</td>\n",
              "      <td>2</td>\n",
              "    </tr>\n",
              "  </tbody>\n",
              "</table>\n",
              "<p>684 rows × 2 columns</p>\n",
              "</div>"
            ],
            "text/plain": [
              "      pred  resp\n",
              "408      1     1\n",
              "1374     1     0\n",
              "1901     1     1\n",
              "1557     0     0\n",
              "1430     1     1\n",
              "...    ...   ...\n",
              "601      2     0\n",
              "175      1     1\n",
              "1795     0     2\n",
              "2000     0     0\n",
              "2037     0     2\n",
              "\n",
              "[684 rows x 2 columns]"
            ]
          },
          "metadata": {
            "tags": []
          },
          "execution_count": 4
        }
      ]
    },
    {
      "cell_type": "code",
      "metadata": {
        "id": "dG0GRrmHCVm2",
        "colab": {
          "base_uri": "https://localhost:8080/"
        },
        "outputId": "7efb13c5-6198-4cd8-ed5e-91253bdcee5f"
      },
      "source": [
        "# Overall prediction success percentage\n",
        "from sklearn.metrics import accuracy_score\n",
        "print(accuracy_score(y_test, y_pred))\n",
        "\n",
        "# Confusion matrix in array format\n",
        "from sklearn.metrics import confusion_matrix\n",
        "confusion_matrix(y_test, y_pred)"
      ],
      "execution_count": null,
      "outputs": [
        {
          "output_type": "stream",
          "text": [
            "0.6242690058479532\n"
          ],
          "name": "stdout"
        },
        {
          "output_type": "execute_result",
          "data": {
            "text/plain": [
              "array([[ 55,  53,  55],\n",
              "       [ 64, 277,   5],\n",
              "       [ 50,  30,  95]])"
            ]
          },
          "metadata": {
            "tags": []
          },
          "execution_count": 5
        }
      ]
    },
    {
      "cell_type": "code",
      "metadata": {
        "id": "47b_VOscChy6",
        "colab": {
          "base_uri": "https://localhost:8080/",
          "height": 279
        },
        "outputId": "2a8e9128-6b7a-46d5-e6c8-c2ab012b3a79"
      },
      "source": [
        "# Confusion matrix in visual format\n",
        "from sklearn.metrics import plot_confusion_matrix\n",
        "_ = plot_confusion_matrix(model, x_test, y_test, cmap = 'Purples', values_format='.0f')\n",
        "\n",
        "#0 = Tie\n",
        "#1 = Home team wins\n",
        "#2 = Away team wins\n",
        "\n",
        "#We see, for example, that out of 360 home team win predictions (1), 277 are correct\n",
        "\n"
      ],
      "execution_count": null,
      "outputs": [
        {
          "output_type": "display_data",
          "data": {
            "image/png": "[encoded data removed]",
            "text/plain": [
              "<Figure size 432x288 with 2 Axes>"
            ]
          },
          "metadata": {
            "tags": [],
            "needs_background": "light"
          }
        }
      ]
    }
  ]
}